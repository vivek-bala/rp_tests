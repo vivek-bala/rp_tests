{
 "cells": [
  {
   "cell_type": "code",
   "execution_count": 1,
   "metadata": {},
   "outputs": [
    {
     "name": "stdout",
     "output_type": "stream",
     "text": [
      "Using matplotlib backend: Qt5Agg\n"
     ]
    }
   ],
   "source": [
    "import pandas as pd\n",
    "import matplotlib.pyplot as plt\n",
    "from glob import glob\n",
    "import os\n",
    "import shutil\n",
    "\n",
    "%matplotlib"
   ]
  },
  {
   "cell_type": "code",
   "execution_count": 2,
   "metadata": {
    "collapsed": true
   },
   "outputs": [],
   "source": [
    "files = [10,100,1000,10000]\n",
    "#files = [100]"
   ]
  },
  {
   "cell_type": "code",
   "execution_count": 3,
   "metadata": {
    "collapsed": true
   },
   "outputs": [],
   "source": [
    "# Magic function\n",
    "\n",
    "def get_Toverlap(d, start_state, stop_state):\n",
    "    '''\n",
    "    Helper function to create the list of lists from which to calculate the\n",
    "    overlap of the elements of a DataFrame between the two boundaries passed as\n",
    "     arguments.\n",
    "    '''\n",
    "\n",
    "    overlap = 0\n",
    "    ranges = []\n",
    "\n",
    "    for obj, states in d.iteritems():\n",
    "        #print states\n",
    "        ranges.append([states[start_state], states[stop_state]])\n",
    "\n",
    "    for crange in collapse_ranges(ranges):\n",
    "        overlap += crange[1] - crange[0]\n",
    "    \n",
    "    return overlap\n",
    "\n",
    "def collapse_ranges(ranges):\n",
    "    \"\"\"\n",
    "    given be a set of ranges (as a set of pairs of floats [start, end] with\n",
    "    'start <= end'. This algorithm will then collapse that set into the\n",
    "    smallest possible set of ranges which cover the same, but not more nor\n",
    "    less, of the domain (floats).\n",
    "    \n",
    "    We first sort the ranges by their starting point. We then start with the\n",
    "    range with the smallest starting point [start_1, end_1], and compare to the\n",
    "    next following range [start_2, end_2], where we now know that start_1 <=\n",
    "    start_2. We have now two cases:\n",
    "    \n",
    "    a) when start_2 <= end_1, then the ranges overlap, and we collapse them\n",
    "    into range_1: range_1 = [start_1, max[end_1, end_2]\n",
    "    \n",
    "    b) when start_2 > end_2, then ranges don't overlap. Importantly, none of\n",
    "    the other later ranges can ever overlap range_1. So we move range_1 to\n",
    "    the set of final ranges, and restart the algorithm with range_2 being\n",
    "    the smallest one.\n",
    "    \n",
    "    Termination condition is if only one range is left -- it is also moved to\n",
    "    the list of final ranges then, and that list is returned.\n",
    "    \"\"\"\n",
    "\n",
    "    final = []\n",
    "\n",
    "    # sort ranges into a copy list\n",
    "    _ranges = sorted (ranges, key=lambda x: x[0])\n",
    "        \n",
    "    START = 0\n",
    "    END = 1\n",
    "\n",
    "    base = _ranges[0] # smallest range\n",
    "\n",
    "    for _range in _ranges[1:]:\n",
    "\n",
    "        if _range[START] <= base[END]:\n",
    "            # ranges overlap -- extend the base\n",
    "            base[END] = max(base[END], _range[END])\n",
    "\n",
    "        else:\n",
    "\n",
    "            # ranges don't overlap -- move base to final, and current _range\n",
    "            # becomes the new base\n",
    "            final.append(base)\n",
    "            base = _range\n",
    "\n",
    "    # termination: push last base to final\n",
    "    final.append(base)\n",
    "\n",
    "    return final\n"
   ]
  },
  {
   "cell_type": "code",
   "execution_count": 4,
   "metadata": {
    "collapsed": true
   },
   "outputs": [],
   "source": [
    "# EnTK duration\n",
    "\n",
    "def entk_duration(fname):\n",
    "    \n",
    "    df = pd.read_csv(fname, sep=',', skiprows=9, index_col=False,names =['time','name','uid','state','event','iteration','stage','task','msg'])\n",
    "    df.drop(df.columns[[1,2,3,4]], axis=1, inplace=True)\n",
    "    #print df\n",
    "\n",
    "    super_dict = dict()\n",
    "    for row in df.iterrows():\n",
    "        row=row[1]\n",
    "        time = float(row['time'])\n",
    "        task = int(row['task'].split(':')[1].strip())\n",
    "        msg = row['msg'].strip()\n",
    "        \n",
    "        if msg == 'submitted':\n",
    "            start_time = time            \n",
    "            \n",
    "        if msg =='done':\n",
    "            \n",
    "            if task not in super_dict:\n",
    "                super_dict[task] = dict()\n",
    "            \n",
    "            if 'start' not in super_dict[task]:\n",
    "                super_dict[task]['start'] = start_time\n",
    "            \n",
    "            if 'stop' not in super_dict[task]:\n",
    "                super_dict[task]['stop'] = time\n",
    "                \n",
    "    return get_Toverlap(super_dict, 'start', 'stop')"
   ]
  },
  {
   "cell_type": "code",
   "execution_count": 7,
   "metadata": {
    "collapsed": true
   },
   "outputs": [],
   "source": [
    "def plot(df):\n",
    "    \n",
    "    FONTSIZE=18\n",
    "    ax = df.plot(kind='line', fontsize=FONTSIZE,\n",
    "                title=   'Total time to execution as a function of the number of files \\n'+\n",
    "                         'staged in each task (number of tasks = 16)'\n",
    "                )\n",
    "    \n",
    "    ax.set_xlabel('Number of files staged in each task', fontsize=FONTSIZE)\n",
    "    ax.set_ylabel('Total time to execution', fontsize=FONTSIZE)\n",
    "    ax.set_title(ax.get_title(), fontsize=FONTSIZE)\n",
    "    \n",
    "    "
   ]
  },
  {
   "cell_type": "code",
   "execution_count": 8,
   "metadata": {
    "scrolled": false
   },
   "outputs": [],
   "source": [
    "df = pd.DataFrame(columns=['TTE'])\n",
    "\n",
    "for f in files:\n",
    "   \n",
    "    fname = glob('../raw_data/data-{0}/entk.app*.prof'.format(f))[0]\n",
    "    shutil.copy(fname, 'temp-{0}.csv'.format(f))\n",
    "    tte = entk_duration('temp-{0}.csv'.format(f))\n",
    "    os.remove('temp-{0}.csv'.format(f))\n",
    "    #print tte\n",
    "    df.loc[f] = [tte]\n",
    "\n",
    "plot(df)"
   ]
  },
  {
   "cell_type": "code",
   "execution_count": null,
   "metadata": {
    "collapsed": true
   },
   "outputs": [],
   "source": []
  }
 ],
 "metadata": {
  "kernelspec": {
   "display_name": "Python 2",
   "language": "python",
   "name": "python2"
  },
  "language_info": {
   "codemirror_mode": {
    "name": "ipython",
    "version": 2
   },
   "file_extension": ".py",
   "mimetype": "text/x-python",
   "name": "python",
   "nbconvert_exporter": "python",
   "pygments_lexer": "ipython2",
   "version": "2.7.13"
  }
 },
 "nbformat": 4,
 "nbformat_minor": 2
}
